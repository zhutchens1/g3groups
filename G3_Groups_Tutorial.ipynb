{
 "cells": [
  {
   "cell_type": "markdown",
   "metadata": {},
   "source": [
    "# RESOLVE-G3 Groups Tutorial\n",
    "\n",
    "Author: Zack Hutchens<br>\n",
    "Date: February 23, 2021\n",
    "\n",
    "This Jupyter tutorial provides a demonstration of the G3 group finding technique, which is presented fully at https://github.com/zhutchens1/g3groups. In the following cells, steps 1-4 mirror the outline of the git README, replicating the group catalog within this notebook. Following the group finding, we show some simple examples of plots/figures to demonstrate the G3 group data columns.\n",
    "\n",
    "## Step 0: Data & Group Finding Selection\n",
    "First, let's read in the RESOLVE and ECO data. The catalogs read-in below can be found on the RESOLVE-G3 slack (https://resolve-g3.slack.com). While these prototype catalogs already contain the G3 group information, we will reproduce the results here to demonstrate our algorithm. "
   ]
  },
  {
   "cell_type": "code",
   "execution_count": null,
   "metadata": {},
   "outputs": [],
   "source": [
    "import numpy as np\n",
    "import matplotlib.pyplot as plt\n",
    "from scipy.interpolate import interp1d\n",
    "from scipy.optimize import curve_fit\n",
    "from scipy.stats import binned_statistic\n",
    "from smoothedbootstrap import smoothedbootstrap as sbs\n",
    "import foftools as fof\n",
    "import iterativecombination as ic\n",
    "\n",
    "resall = np.genfromtxt(\"RESOLVEdata_G3catalog_luminosity.csv\", delimiter=\",\", dtype=None, names=True, encoding=None)\n",
    "ecoall = np.genfromtxt(\"ECOdata_G3catalog_luminosity.csv\", delimiter=\",\", dtype=None, names=True, encoding=None)\n",
    "ecovolume = 192351.36 # Mpc^3 (h=1)"
   ]
  },
  {
   "cell_type": "markdown",
   "metadata": {},
   "source": [
    "The RESOLVE survey comprises two equatorial strips, the A- and B- semester, for which the A-semester is a subset of the larger ECO catalog (see https://resolve.astro.unc.edu for details). For this reason, our group finding procedure will be applied to ECO and RESOLVE-B separately, which allows us to (a) extract RESOLVE-A groups from ECO and (b) use ECO groups to control for cosmic variance effects in the smaller-volume RESOLVE-B. Thus, in the next cell, we will refine our datasets to reflect division of the A/B semesters. Throughout this tutorial, there will be references to a \"RESOLVE-B analog\" dataset, which is a version of ECO down to -17.0 (not -17.33) that enables us to extract group finding information for the denser, more-complete RESOLVE-B."
   ]
  },
  {
   "cell_type": "code",
   "execution_count": null,
   "metadata": {},
   "outputs": [],
   "source": [
    "# ECO \n",
    "eco = ecoall\n",
    "resb = resall[(resall['f_b']==1)]"
   ]
  },
  {
   "cell_type": "code",
   "execution_count": null,
   "metadata": {},
   "outputs": [],
   "source": [
    "# make distinct arrays + prepare arrays to store group ID's (*g3grp)\n",
    "ecosz = len(eco)\n",
    "econame = np.array(eco['name'])\n",
    "ecoresname = np.array(eco['resname']) # RESOLVE name in ECO catalog\n",
    "ecoradeg = np.array(eco['radeg'])\n",
    "ecodedeg = np.array(eco['dedeg'])\n",
    "ecocz = np.array(eco['cz'])\n",
    "ecoabsrmag = np.array(eco['absrmag'])\n",
    "ecog3grp = np.full(ecosz, -99.)\n",
    "ecog3logmh = np.full(ecosz,-99.) # abundance-matched halo mass \n",
    "\n",
    "resbsz = int(len(resb))\n",
    "resbname = np.array(resb['name'])\n",
    "resbradeg = np.array(resb['radeg'])\n",
    "resbdedeg = np.array(resb['dedeg'])\n",
    "resbcz = np.array(resb['cz'])\n",
    "resbabsrmag = np.array(resb['absrmag'])\n",
    "resbg3grp = np.full(resbsz, -99.)\n",
    "resbg3logmh = np.full(resbsz, -99.)\n",
    "\n",
    "resbana_g3grp = np.full(ecosz,-99.) # for RESOLVE-B analog"
   ]
  },
  {
   "cell_type": "markdown",
   "metadata": {},
   "source": [
    "## Step 1: Finding Giant-Only Cores of Groups\n",
    "Now that the data is stored, we can begin working on group finding. As described in the README, the first step is identify \"group cores\" in RESOLVE-B and ECO using giant galaxies. These group cores are defined by friends-of-friends using the linking constants recommended by Duarte & Mamon (2014). For the luminosity-selected catalog, we divide dwarfs and giants at $M_r = -19.4$.\n",
    "\n",
    "The beta catalogs provided in the slack are based on an adaptive linking strategy in Step 1. To see how the giant-only groups change if the linking lengths are fixed, set `ADAPTIVE_LINKING` to zero in the next cell. Run the next two cells to apply FoF to giant galaxies and see the multiplicity function for giants."
   ]
  },
  {
   "cell_type": "code",
   "execution_count": null,
   "metadata": {},
   "outputs": [],
   "source": [
    "ADAPTIVE_LINKING = 1\n",
    "\n",
    "# create adaptive strategy from ECO giant galaxies\n",
    "ecogiantsel = (ecoabsrmag<=-19.4)\n",
    "s0 = (ecovolume/len(ecoabsrmag[ecogiantsel]))**(1/3.)\n",
    "ecogiantmags = ecoabsrmag[ecogiantsel]\n",
    "ecogiantsepdata = np.array([(192351.36/len(ecogiantmags[ecogiantmags<=Mr]))**(1/3.) for Mr in ecogiantmags])\n",
    "ecogiantsepdata = ecogiantsepdata*s0/np.median(ecogiantsepdata)\n",
    "poptsfit, pcovsfit = curve_fit(fof.sepmodel, ecogiantmags, ecogiantsepdata) \n",
    "meansepinterp = lambda x: fof.sepmodel(x, *poptsfit) \n",
    "\n",
    "# get adaptive separations for ECO, RESOLVE-B (smoothed by model fit)\n",
    "ecogiantsep = meansepinterp(ecogiantmags)\n",
    "resbgiantsel = (resbabsrmag<=-19.4)\n",
    "resbgiantsep = meansepinterp(resbabsrmag[(resbgiantsel)])\n",
    "\n",
    "ecolinking = ADAPTIVE_LINKING*(ecogiantsep)+(1-ADAPTIVE_LINKING)*s0\n",
    "resblinking = ADAPTIVE_LINKING*(resbgiantsep)+(1-ADAPTIVE_LINKING)*s0\n",
    "\n",
    "# run FoF group ID numbers for ECO (+ RESOLVE-B analogue) and RESOLVE-B\n",
    "blos, bperp = 1.1, 0.07 # Duarte & Mamon (2014)\n",
    "ecogiantfofid = fof.fast_fof(ecoradeg[ecogiantsel], ecodedeg[ecogiantsel], ecocz[ecogiantsel], bperp, blos,\\\n",
    "                             ecolinking)\n",
    "ecog3grp[ecogiantsel] = ecogiantfofid\n",
    "resbana_g3grp[ecogiantsel] = ecogiantfofid\n",
    "\n",
    "resbgiantfofid = fof.fast_fof(resbradeg[resbgiantsel], resbdedeg[resbgiantsel], resbcz[resbgiantsel], bperp, blos,\\\n",
    "                              resblinking)\n",
    "resbg3grp[resbgiantsel]=resbgiantfofid"
   ]
  },
  {
   "cell_type": "code",
   "execution_count": null,
   "metadata": {},
   "outputs": [],
   "source": [
    "fig, (ax, ax1) = plt.subplots(ncols=2,figsize=(16,5))\n",
    "tx=np.linspace(-24,-19.3,100)\n",
    "ax.axhline(s0, label=r'Mean Separation of ECO Giant Galaxies, $s_0 = (V/N)^{1/3}$', color='k', linestyle='--')\n",
    "ax.plot(tx, meansepinterp(tx), label='Model Fit')\n",
    "ax.plot(ecogiantmags, ecogiantsepdata, 'k.', alpha=1, label=r'ECO Giant Galaxies ($M_r \\leq -19.4$)')\n",
    "ax.plot(resbabsrmag[resbgiantsel], resbgiantsep, 'r^', alpha=0.4, label=r'RESOLVE-B Giant Galaxies (interpolated, $M_r \\leq -19.4$)')\n",
    "ax.set_xlabel(\"Absolute $M_r$ of Giant Galaxy\")\n",
    "ax.set_ylabel(r\"$s_i$ - Separation used for Galaxy $i$ in Giant-Only FoF [Mpc/h]\")\n",
    "ax.legend(loc='best')\n",
    "ax.invert_xaxis()\n",
    "\n",
    "binv = np.arange(0.5,300.5,3)\n",
    "ax1.hist(fof.multiplicity_function(ecog3grp[ecog3grp!=-99.], return_by_galaxy=False), bins=binv, histtype='step', linewidth=3, label='ECO Giant-Only FoF Groups')\n",
    "ax1.hist(fof.multiplicity_function(resbg3grp[resbg3grp!=-99.], return_by_galaxy=False), bins=binv, histtype='step', linewidth=1.5, hatch='\\\\', label='RESOLVE-B Giant-Only FoF Groups')\n",
    "ax1.set_xlabel(\"Number of Giant Galaxies per Group\")\n",
    "ax1.set_ylabel(\"Number of Giant-Only FoF Groups\")\n",
    "ax1.set_yscale('log')\n",
    "ax1.legend(loc='best')\n",
    "ax1.set_xlim(0,80)\n",
    "plt.show()"
   ]
  },
  {
   "cell_type": "markdown",
   "metadata": {},
   "source": [
    "## Step 2: Associating Dwarf Galaxies to Giant-Only Groups\n",
    "The next step in the algorithm is to search for dwarf galaxies near the giant-only FoF groups. The boundaries will be derived from model fits against group-$N$, which allows us to (i) avoid halo mass-based membership refinement and (ii) extrapolate boundaries to associate dwarfs around isolated giants. We'll need to: \n",
    "\n",
    "(a) Compute relative radii and peculiar velocities of giant galaxies within their groups<br>\n",
    "(b) Compute medians of those quantities in group-N bins (with bootstrapped errors on medians)<br>\n",
    "(c) Fit the medians to a logarithmic model<br>\n",
    "(d) Scale the model to skirt the outermost galaxies in radius/velocity space and calibrate against abundance-matched halos<br>\n",
    "(e) Associate dwarfs into groups based on fitted boundaries. This steps adds dwarf galaxies to the giant-only groups if they fall within the provided radius and velocity boundaries. If two giant-only groups are competing for a dwarf member, it goes to the group whose center is closest to the dwarf. <br>"
   ]
  },
  {
   "cell_type": "code",
   "execution_count": null,
   "metadata": {},
   "outputs": [],
   "source": [
    "# (a)\n",
    "ecogiantgrpra, ecogiantgrpdec, ecogiantgrpcz = fof.group_skycoords(ecoradeg[ecogiantsel], ecodedeg[ecogiantsel], ecocz[ecogiantsel], ecogiantfofid)\n",
    "relvel = np.abs(ecogiantgrpcz - ecocz[ecogiantsel])\n",
    "relprojdist = (ecogiantgrpcz + ecocz[ecogiantsel])/100. * ic.angular_separation(ecogiantgrpra, ecogiantgrpdec, ecoradeg[ecogiantsel], ecodedeg[ecogiantsel])/2.0\n",
    "ecogiantgrpn = fof.multiplicity_function(ecogiantfofid, return_by_galaxy=True) # returns group N by galaxy.\n",
    "uniqecogiantgrpn, uniqindex = np.unique(ecogiantgrpn, return_index=True)\n",
    "keepcalsel = np.where(uniqecogiantgrpn>1)"
   ]
  },
  {
   "cell_type": "code",
   "execution_count": null,
   "metadata": {},
   "outputs": [],
   "source": [
    "# (b)\n",
    "median_relprojdist = np.array([np.median(relprojdist[np.where(ecogiantgrpn==sz)]) for sz in uniqecogiantgrpn[keepcalsel]])\n",
    "median_relvel = np.array([np.median(relvel[np.where(ecogiantgrpn==sz)]) for sz in uniqecogiantgrpn[keepcalsel]])\n",
    "rproj_median_error = np.std(np.array([sbs(relprojdist[np.where(ecogiantgrpn==sz)], 10000, np.median, kwargs=dict({'axis':1 })) for sz in uniqecogiantgrpn[keepcalsel]]), axis=1)\n",
    "dvproj_median_error = np.std(np.array([sbs(relvel[np.where(ecogiantgrpn==sz)], 10000, np.median, kwargs=dict({'axis':1})) for sz in uniqecogiantgrpn[keepcalsel]]), axis=1)"
   ]
  },
  {
   "cell_type": "code",
   "execution_count": null,
   "metadata": {},
   "outputs": [],
   "source": [
    "# (c)\n",
    "poptrproj, jk = curve_fit(fof.giantmodel, uniqecogiantgrpn[keepcalsel], median_relprojdist, sigma=rproj_median_error, p0=[0.1, -2, 3, -0.1])\n",
    "poptdvproj,jk = curve_fit(fof.giantmodel, uniqecogiantgrpn[keepcalsel], median_relvel, sigma=dvproj_median_error, p0=[160,6.5,45,-600]) \n",
    "rproj_boundary = lambda N: 3*fof.giantmodel(N, *poptrproj)\n",
    "vproj_boundary = lambda N: 4.5*fof.giantmodel(N, *poptdvproj)"
   ]
  },
  {
   "cell_type": "code",
   "execution_count": null,
   "metadata": {},
   "outputs": [],
   "source": [
    "# (d)\n",
    "\n",
    "# Commented-out lines do halo abundance matching (frozen from this tutorial, ask Zack for more details)\n",
    "#gihaloid, gilogmh, gir200, gihalovdisp = ic.HAMwrapper(ecoradeg[ecogiantsel], ecodedeg[ecogiantsel], ecocz[ecogiantsel], ecoabsrmag[ecogiantsel], ecog3grp[ecogiantsel],\\\n",
    "#                                      ecovolume, inputfilename=None, outputfilename=None)\n",
    "#gihalorvir = (3*(10**gilogmh / fof.getmhoffset(200,337,1,1,6)) / (4*np.pi*337*0.3*2.77e11) )**(1/3.)\n",
    "#gihalon = fof.multiplicity_function(np.sort(ecog3grp[ecogiantsel]), return_by_galaxy=False)\n",
    "\n",
    "if True:\n",
    "    fig, (ax,ax1)=plt.subplots(ncols=2, figsize=(15,4))\n",
    "    sel = (ecogiantgrpn>1)\n",
    "    #ax.scatter(gihalon, gihalovdisp, marker='D', color='purple', label=r'ECO HAM Velocity Dispersion')\n",
    "    ax.plot(ecogiantgrpn[sel], relvel[sel], 'r.', alpha=0.2, label='ECO Giant Galaxies')\n",
    "    ax.errorbar(uniqecogiantgrpn[keepcalsel], median_relvel, fmt='k^', label=r'$\\Delta v_{\\rm proj}$ (Median of $\\Delta v_{\\rm proj,\\, gal}$)',yerr=dvproj_median_error)\n",
    "    tx = np.linspace(1,max(ecogiantgrpn),1000)\n",
    "    ax.plot(tx, fof.giantmodel(tx, *poptdvproj), label=r'$1\\Delta v_{\\rm proj}^{\\rm fit}$')\n",
    "    ax.plot(tx, 4.5*fof.giantmodel(tx, *poptdvproj), 'g',  label=r'$4.5\\Delta v_{\\rm proj}^{\\rm fit}$', linestyle='-.')\n",
    "    ax.set_xlabel(\"Number of Giant Members\")\n",
    "    ax.set_ylabel(\"Relative Velocity to Group Center [km/s]\")\n",
    "    ax.legend(loc='best')\n",
    "\n",
    "    #ax1.scatter(gihalon, gihalorvir, marker='D', color='purple', label=r'ECO Group Virial Radii')\n",
    "    ax1.plot(ecogiantgrpn[sel], relprojdist[sel], 'r.', alpha=0.2, label='ECO Giant Galaxies')\n",
    "    ax1.errorbar(uniqecogiantgrpn[keepcalsel], median_relprojdist, fmt='k^', label=r'$R_{\\rm proj}$ (Median of $R_{\\rm proj,\\, gal}$)',yerr=rproj_median_error)\n",
    "    ax1.plot(tx, fof.giantmodel(tx, *poptrproj), label=r'$1R_{\\rm proj}^{\\rm fit}$')\n",
    "    ax1.plot(tx, 3*fof.giantmodel(tx, *poptrproj), 'g', label=r'$3R_{\\rm proj}^{\\rm fit}$', linestyle='-.')\n",
    "    ax1.set_xlabel(\"Number of Giant Members in Galaxy's Group\")\n",
    "    ax1.set_ylabel(\"Projected Distance from Giant to Group Center [Mpc/h]\")\n",
    "    ax1.legend(loc='best')\n",
    "    plt.show()\n"
   ]
  },
  {
   "cell_type": "code",
   "execution_count": null,
   "metadata": {},
   "outputs": [],
   "source": [
    "# (e)\n",
    "ecodwarfsel = (ecoabsrmag>-19.4) & (ecoabsrmag<=-17.33) & (ecocz>2530) & (ecocz<7470)\n",
    "resbdwarfsel = (resbabsrmag>-19.4) & (resbabsrmag<=-17.0) & (resbcz>4250) & (resbcz<7250)\n",
    "resbana_dwarfsel = (ecoabsrmag>-19.4) & (ecoabsrmag<=-17.0) & (ecocz>2530) & (ecocz<7470)    \n",
    "\n",
    "resbgiantgrpra, resbgiantgrpdec, resbgiantgrpcz = fof.group_skycoords(resbradeg[resbgiantsel], resbdedeg[resbgiantsel], resbcz[resbgiantsel], resbgiantfofid)\n",
    "resbgiantgrpn = fof.multiplicity_function(resbgiantfofid, return_by_galaxy=True)\n",
    "ecodwarfassocid, junk = fof.fast_faint_assoc(ecoradeg[ecodwarfsel],ecodedeg[ecodwarfsel],ecocz[ecodwarfsel],ecogiantgrpra,ecogiantgrpdec,ecogiantgrpcz,ecogiantfofid,\\\n",
    "                   rproj_boundary(ecogiantgrpn),vproj_boundary(ecogiantgrpn))\n",
    "resbdwarfassocid, junk = fof.fast_faint_assoc(resbradeg[resbdwarfsel],resbdedeg[resbdwarfsel],resbcz[resbdwarfsel],resbgiantgrpra,resbgiantgrpdec,resbgiantgrpcz,resbgiantfofid,\\\n",
    "                   rproj_boundary(resbgiantgrpn),vproj_boundary(resbgiantgrpn))\n",
    "    \n",
    "resbana_dwarfassocid, junk = fof.fast_faint_assoc(ecoradeg[resbana_dwarfsel], ecodedeg[resbana_dwarfsel], ecocz[resbana_dwarfsel], ecogiantgrpra, ecogiantgrpdec, ecogiantgrpcz, ecogiantfofid,\\\n",
    "                                                    rproj_boundary(ecogiantgrpn), vproj_boundary(ecogiantgrpn))\n",
    "\n",
    "ecog3grp[ecodwarfsel] = ecodwarfassocid\n",
    "resbg3grp[resbdwarfsel] = resbdwarfassocid\n",
    "resbana_g3grp[resbana_dwarfsel] = resbana_dwarfassocid"
   ]
  },
  {
   "cell_type": "markdown",
   "metadata": {},
   "source": [
    "# Step 3: Finding Dwarf-Only Groups\n",
    "Steps #1 and #2 miss any groups composed strictly of dwarf galaxies, since the method depends on having giant galaxies to associate around. Thus, the next step is to construct dwarf-only groups from the remaining ungrouped dwarfs. Our \"iterative combination\" procedure is detailed on the README page. In practice, the steps are to:\n",
    "\n",
    " (a) Select galaxies in \"giant+dwarf\" groups (i.e. that are NOT ungrouped dwarf galaxies)<br>\n",
    " (b) Compute the relative radii and peculiar velocities of \"giant+dwarf\" group members<br>\n",
    " (c) Bin these quantities and fit them against group-integrated luminosity<br>\n",
    " (d) Construct groups using iterative combination<br>\n",
    " "
   ]
  },
  {
   "cell_type": "code",
   "execution_count": null,
   "metadata": {},
   "outputs": [],
   "source": [
    "# (a) galaxy selection\n",
    "ecogdgrpn = fof.multiplicity_function(ecog3grp, return_by_galaxy=True)\n",
    "ecogdsel = np.logical_not((ecogdgrpn==1) & (ecoabsrmag>-19.4) & (ecog3grp>0)) # select galaxies that AREN'T ungrouped dwarfs\n",
    "ecogdsel = np.logical_not(np.logical_or(ecog3grp==-99., ((ecogdgrpn==1) & (ecoabsrmag>-19.4) & (ecoabsrmag<=-17.33))))"
   ]
  },
  {
   "cell_type": "code",
   "execution_count": null,
   "metadata": {},
   "outputs": [],
   "source": [
    "# (b) compute relative radii + peculiar velocities\n",
    "ecogdgrpra, ecogdgrpdec, ecogdgrpcz = fof.group_skycoords(ecoradeg[ecogdsel], ecodedeg[ecogdsel], ecocz[ecogdsel], ecog3grp[ecogdsel])\n",
    "ecogdrelvel = np.abs(ecogdgrpcz - ecocz[ecogdsel])\n",
    "ecogdrelprojdist = (ecogdgrpcz + ecocz[ecogdsel])/100. * ic.angular_separation(ecogdgrpra, ecogdgrpdec, ecoradeg[ecogdsel], ecodedeg[ecogdsel])/2.0\n",
    "ecogdn = ecogdgrpn[ecogdsel]\n",
    "ecogdtotalmag = ic.get_int_mag(ecoabsrmag[ecogdsel], ecog3grp[ecogdsel]) # group L_r"
   ]
  },
  {
   "cell_type": "code",
   "execution_count": null,
   "metadata": {},
   "outputs": [],
   "source": [
    "# (c) bin quantities and curve fit\n",
    "magbins=np.arange(-24,-19,0.25)\n",
    "binsel = np.where(np.logical_and(ecogdn>1, ecogdtotalmag>-24))\n",
    "gdmedianrproj, magbinedges, jk = binned_statistic(ecogdtotalmag[binsel], ecogdrelprojdist[binsel], lambda x:np.nanpercentile(x,99), bins=magbins)\n",
    "gdmedianrelvel, jk, jk = binned_statistic(ecogdtotalmag[binsel], ecogdrelvel[binsel], lambda x: np.nanpercentile(x,99), bins=magbins)\n",
    "nansel = np.isnan(gdmedianrproj)\n",
    "if ADAPTIVE_LINKING:\n",
    "    guess=None\n",
    "else:\n",
    "    guess=[1e-5, 0.4, 0.2, 1]\n",
    "poptr, pcovr = curve_fit(ic.decayexp, magbinedges[:-1][~nansel], gdmedianrproj[~nansel], p0=guess)\n",
    "poptv, pcovv = curve_fit(ic.decayexp, magbinedges[:-1][~nansel], gdmedianrelvel[~nansel], p0=[3e-5,4e-1,5e-03,1])\n",
    "\n",
    "tx = np.linspace(-25,-17,100)\n",
    "fig, (ax, ax1) = plt.subplots(ncols=2, figsize=(15,4))\n",
    "ax.plot(ecogdtotalmag[binsel], ecogdrelprojdist[binsel], 'k.', alpha=0.2, label='ECO Galaxies in N>1 Giant+Dwarf Groups')\n",
    "ax.plot(magbinedges[:-1], gdmedianrproj, 'r^', label='99th percentile in bin')\n",
    "ax.plot(tx, ic.decayexp(tx,*poptr))\n",
    "ax.set_xlabel(r\"Integrated $M_r$ of Giant + Dwarf Members\")\n",
    "ax.set_ylabel(\"Projected Distance from Galaxy to Group Center [Mpc/h]\")\n",
    "ax.legend(loc='best')\n",
    "ax.invert_xaxis()\n",
    "\n",
    "ax1.plot(ecogdtotalmag[binsel], ecogdrelvel[binsel], 'k.', alpha=0.2, label='ECO Galaxies in N>1 Giant+Dwarf Groups')\n",
    "ax1.plot(magbinedges[:-1], gdmedianrelvel,'r^',label='Medians')\n",
    "ax1.plot(tx, ic.decayexp(tx, *poptv))\n",
    "ax1.set_ylabel(\"Relative Velocity between Galaxy and Group Center\")\n",
    "ax1.set_xlabel(r\"Integrated $M_r$ of Giant + Dwarf Members\")\n",
    "ax1.invert_xaxis()\n",
    "ax1.legend(loc='best')\n",
    "plt.show()\n",
    "\n",
    "rproj_for_iteration = lambda M: ic.decayexp(M, *poptr)\n",
    "vproj_for_iteration = lambda M: ic.decayexp(M, *poptv)"
   ]
  },
  {
   "cell_type": "code",
   "execution_count": null,
   "metadata": {},
   "outputs": [],
   "source": [
    "# (d) identify dwarf-only groups using iterative combination\n",
    "assert (ecog3grp[(ecoabsrmag<=-19.4) & (ecocz<7470) & (ecocz>2530)]!=-99.).all(), \"Not all giants are grouped.\"\n",
    "\n",
    "ecogrpnafterassoc = fof.multiplicity_function(ecog3grp, return_by_galaxy=True)\n",
    "resbgrpnafterassoc = fof.multiplicity_function(resbg3grp, return_by_galaxy=True)\n",
    "resbana_grpnafterassoc = fof.multiplicity_function(resbana_g3grp, return_by_galaxy=True)\n",
    "\n",
    "eco_ungroupeddwarf_sel = (ecoabsrmag>-19.4) & (ecoabsrmag<=-17.33) & (ecocz<7470) & (ecocz>2530) & (ecogrpnafterassoc==1)\n",
    "ecoitassocid = ic.iterative_combination(ecoradeg[eco_ungroupeddwarf_sel], ecodedeg[eco_ungroupeddwarf_sel], ecocz[eco_ungroupeddwarf_sel], ecoabsrmag[eco_ungroupeddwarf_sel],\\\n",
    "                rproj_for_iteration, vproj_for_iteration, starting_id=np.max(ecog3grp)+1, centermethod='arithmetic')\n",
    "resb_ungroupeddwarf_sel = (resbabsrmag>-19.4) & (resbabsrmag<=-17.0) & (resbcz<7250) & (resbcz>4250) & (resbgrpnafterassoc==1)\n",
    "resbitassocid = ic.iterative_combination(resbradeg[resb_ungroupeddwarf_sel], resbdedeg[resb_ungroupeddwarf_sel], resbcz[resb_ungroupeddwarf_sel], resbabsrmag[resb_ungroupeddwarf_sel],\\\n",
    "                rproj_for_iteration, vproj_for_iteration, starting_id=np.max(resbg3grp)+1, centermethod='arithmetic')\n",
    "resbana_ungroupeddwarf_sel = (ecoabsrmag>-19.4) & (ecoabsrmag<=-17.0) & (ecocz<7470) & (ecocz>2530) & (resbana_grpnafterassoc==1)\n",
    "resbana_itassocid = ic.iterative_combination(ecoradeg[resbana_ungroupeddwarf_sel], ecodedeg[resbana_ungroupeddwarf_sel], ecocz[resbana_ungroupeddwarf_sel], ecoabsrmag[resbana_ungroupeddwarf_sel],\\\n",
    "                    rproj_for_iteration, vproj_for_iteration, starting_id=np.max(resbana_g3grp)+1, centermethod='arithmetic')\n",
    "\n",
    "ecog3grp[eco_ungroupeddwarf_sel] = ecoitassocid\n",
    "resbg3grp[resb_ungroupeddwarf_sel] = resbitassocid\n",
    "resbana_g3grp[resbana_ungroupeddwarf_sel] = resbana_itassocid"
   ]
  },
  {
   "cell_type": "code",
   "execution_count": null,
   "metadata": {},
   "outputs": [],
   "source": [
    "plt.figure()\n",
    "binv = np.arange(0.5,1200.5,3)\n",
    "plt.hist(fof.multiplicity_function(ecog3grp[ecog3grp!=-99.], return_by_galaxy=False), bins=binv, log=True, label='ECO Groups', histtype='step', linewidth=3)\n",
    "plt.hist(fof.multiplicity_function(resbg3grp[resbg3grp!=-99.], return_by_galaxy=False), bins=binv, log=True, label='RESOLVE-B Groups', histtype='step', hatch='\\\\')\n",
    "plt.xlabel(\"Number of Giant + Dwarf Group Members\")\n",
    "plt.ylabel(\"Number of Groups\")\n",
    "plt.legend(loc='best')\n",
    "plt.xlim(0,100)\n",
    "plt.show()"
   ]
  },
  {
   "cell_type": "markdown",
   "metadata": {},
   "source": [
    "## Step 4: Assigning Halo Masses\n",
    "Although the motivation for this algorithm requires us to not use halo mass estimates for membership refine, we can still apply halo abundance matching to RESOLVE and ECO, since we know them to be highly-complete. HAM group masses are provided in the Slack catalogs, but are left-out of this tutorial for simplicity (e.g., complications due to python dependencies). "
   ]
  },
  {
   "cell_type": "markdown",
   "metadata": {},
   "source": [
    "## Finalizing the Group Catalog\n",
    "\n",
    "Now that our group finding is complete in ECO and RESOLVE-B, we should calculate additional quantities using functions that are pre-built into my `foftools` package - such as the central flag, velocity dispersion, and group radii. The cells below compute these quantities for RESOLVE-B and ECO and store them in the original dataframes we read-in."
   ]
  },
  {
   "cell_type": "code",
   "execution_count": null,
   "metadata": {},
   "outputs": [],
   "source": [
    "ecog3grpngi = np.zeros(len(ecog3grp))\n",
    "ecog3grpndw = np.zeros(len(ecog3grp))\n",
    "for uid in np.unique(ecog3grp):\n",
    "    grpsel = np.where(ecog3grp==uid)\n",
    "    gisel = np.where(np.logical_and((ecog3grp==uid),(ecoabsrmag<=-19.4)))\n",
    "    dwsel = np.where(np.logical_and((ecog3grp==uid), (ecoabsrmag>-19.4)))\n",
    "    if len(gisel[0])>0.:\n",
    "        ecog3grpngi[grpsel] = len(gisel[0])\n",
    "    if len(dwsel[0])>0.:\n",
    "        ecog3grpndw[grpsel] = len(dwsel[0])\n",
    "\n",
    "ecog3grpradeg, ecog3grpdedeg, ecog3grpcz = fof.group_skycoords(ecoradeg, ecodedeg, ecocz, ecog3grp)\n",
    "ecog3rproj = fof.get_grprproj_e17(ecoradeg, ecodedeg, ecocz, ecog3grp, h=0.7) / (ecog3grpcz/70.) * 206265 # in arcsec\n",
    "ecog3fc = fof.get_central_flag(ecoabsrmag, ecog3grp)\n",
    "ecog3router = fof.get_outermost_galradius(ecoradeg, ecodedeg, ecocz, ecog3grp) # in arcsec\n",
    "junk, ecog3vdisp = fof.get_rproj_czdisp(ecoradeg, ecodedeg, ecocz, ecog3grp)\n",
    "\n",
    "outofsample = (ecog3grp==-99.)\n",
    "ecog3grpngi[outofsample]=-99.\n",
    "ecog3grpndw[outofsample]=-99.\n",
    "ecog3grpradeg[outofsample]=-99.\n",
    "ecog3grpdedeg[outofsample]=-99.\n",
    "ecog3grpcz[outofsample]=-99.\n",
    "ecog3rproj[outofsample]=-99.\n",
    "ecog3fc[outofsample]=-99.\n",
    "ecog3router[outofsample]=-99.\n",
    "ecog3vdisp[outofsample]=-99.\n",
    "\n",
    "ecoall['g3grp_l']=ecog3grp\n",
    "ecoall['g3grpngi_l']=ecog3grpngi\n",
    "ecoall['g3grpndw_l']=ecog3grpndw\n",
    "ecoall['g3grpradeg_l']=ecog3grpradeg\n",
    "ecoall['g3grpdedeg_l']=ecog3grpdedeg\n",
    "ecoall['g3grpcz_l']=ecog3grpcz\n",
    "ecoall['g3rproj_l']=ecog3rproj\n",
    "ecoall['g3fc_l']=ecog3fc\n",
    "ecoall['g3router_l']=ecog3router\n",
    "ecoall['g3vdisp_l']=ecog3vdisp"
   ]
  },
  {
   "cell_type": "code",
   "execution_count": null,
   "metadata": {},
   "outputs": [],
   "source": [
    "resbg3grpngi = np.zeros(len(resbg3grp))\n",
    "resbg3grpndw = np.zeros(len(resbg3grp))\n",
    "for uid in np.unique(resbg3grp):\n",
    "    grpsel = np.where(resbg3grp==uid)\n",
    "    gisel = np.where(np.logical_and((resbg3grp==uid),(resbabsrmag<=-19.4)))\n",
    "    dwsel = np.where(np.logical_and((resbg3grp==uid), (resbabsrmag>-19.4)))\n",
    "    if len(gisel[0])>0.:\n",
    "        resbg3grpngi[grpsel] = len(gisel[0])\n",
    "    if len(dwsel[0])>0.:\n",
    "        resbg3grpndw[grpsel] = len(dwsel[0])\n",
    "resbg3grpradeg, resbg3grpdedeg, resbg3grpcz = fof.group_skycoords(resbradeg, resbdedeg, resbcz, resbg3grp)\n",
    "resbg3rproj = fof.get_grprproj_e17(resbradeg, resbdedeg, resbcz, resbg3grp, h=0.7) / (resbg3grpcz/70.) * 206265 # in arcsec \n",
    "resbg3fc = fof.get_central_flag(resbabsrmag, resbg3grp)\n",
    "resbg3router = fof.get_outermost_galradius(resbradeg, resbdedeg, resbcz, resbg3grp) # in arcsec\n",
    "junk, resbg3vdisp = fof.get_rproj_czdisp(resbradeg, resbdedeg, resbcz, resbg3grp)\n",
    "\n",
    "outofsample = (resbg3grp==-99.)\n",
    "resbg3grpngi[outofsample]=-99.\n",
    "resbg3grpndw[outofsample]=-99.\n",
    "resbg3grpradeg[outofsample]=-99.\n",
    "resbg3grpdedeg[outofsample]=-99.\n",
    "resbg3grpcz[outofsample]=-99.\n",
    "resbg3rproj[outofsample]=-99.\n",
    "resbg3router[outofsample]=-99.\n",
    "resbg3fc[outofsample]=-99.\n",
    "resbg3vdisp[outofsample]=-99."
   ]
  },
  {
   "cell_type": "markdown",
   "metadata": {},
   "source": [
    "Lastly, we need to extract the RESOLVE-A groups from ECO, and unify the RESOLVE group catalog. The easiest way to do this is to populate empty arrays, assigning values to individual indices based on the RESOLVE name (`rsXXXX`=RESOLVE-A, `rfXXXX`=RESOLVE-B)."
   ]
  },
  {
   "cell_type": "code",
   "execution_count": null,
   "metadata": {},
   "outputs": [],
   "source": [
    "# make empty arrays to hold A- and B-semester information\n",
    "sz = len(resall)\n",
    "resolvename = np.array(resall['name'])\n",
    "resolveg3grp = np.full(sz, -99.)\n",
    "resolveg3grpngi = np.full(sz, -99.)\n",
    "resolveg3grpndw = np.full(sz, -99.)\n",
    "resolveg3grpradeg = np.full(sz, -99.)\n",
    "resolveg3grpdedeg = np.full(sz, -99.)\n",
    "resolveg3grpcz = np.full(sz, -99.)\n",
    "resolveg3rproj = np.full(sz,-99.)\n",
    "resolveg3fc = np.full(sz,-99.)\n",
    "resolveg3router = np.full(sz,-99.)\n",
    "resolveg3vdisp = np.full(sz,-99.)\n",
    "\n",
    "for i,nm in enumerate(resolvename):\n",
    "    if nm.startswith('rs'):\n",
    "        # if name starts with 'rs', the galaxy is in RESOLVE-A, so draw group info from ECO\n",
    "        sel_in_eco = np.where(ecoresname==nm)\n",
    "        resolveg3grp[i] = ecog3grp[sel_in_eco]\n",
    "        resolveg3grpngi[i] = ecog3grpngi[sel_in_eco]\n",
    "        resolveg3grpndw[i] = ecog3grpndw[sel_in_eco]\n",
    "        resolveg3grpradeg[i] = ecog3grpradeg[sel_in_eco]\n",
    "        resolveg3grpdedeg[i] = ecog3grpdedeg[sel_in_eco]\n",
    "        resolveg3grpcz[i] = ecog3grpcz[sel_in_eco]\n",
    "        resolveg3rproj[i] = ecog3rproj[sel_in_eco]\n",
    "        resolveg3fc[i] = ecog3fc[sel_in_eco]\n",
    "        resolveg3router[i]=ecog3router[sel_in_eco]\n",
    "        resolveg3vdisp[i]=ecog3vdisp[sel_in_eco]\n",
    "    elif nm.startswith('rf'):\n",
    "        # if name starts with 'rf', use separately-computed RESOLVE-B group info\n",
    "        sel_in_resb = np.where(resbname==nm)\n",
    "        resolveg3grp[i] = resbg3grp[sel_in_resb]\n",
    "        resolveg3grpngi[i] = resbg3grpngi[sel_in_resb]\n",
    "        resolveg3grpndw[i] = resbg3grpndw[sel_in_resb]\n",
    "        resolveg3grpradeg[i] = resbg3grpradeg[sel_in_resb]\n",
    "        resolveg3grpdedeg[i] = resbg3grpdedeg[sel_in_resb]\n",
    "        resolveg3grpcz[i] = resbg3grpcz[sel_in_resb]\n",
    "        resolveg3rproj[i] = resbg3rproj[sel_in_resb]\n",
    "        resolveg3fc[i] = resbg3fc[sel_in_resb]\n",
    "        resolveg3router[i] = resbg3router[sel_in_resb]\n",
    "        resolveg3vdisp[i] = resbg3vdisp[sel_in_resb]\n",
    "    else:\n",
    "        assert False, nm+\" not in RESOLVE\"\n",
    "        \n",
    "# assign quantities to dataframe\n",
    "resall['g3grp_l']=resolveg3grp\n",
    "resall['g3grpngi_l']=resolveg3grpngi\n",
    "resall['g3grpndw_l']=resolveg3grpndw\n",
    "resall['g3grpradeg_l']=resolveg3grpradeg\n",
    "resall['g3grpdedeg_l']=resolveg3grpdedeg\n",
    "resall['g3grpcz_l']=resolveg3grpcz\n",
    "resall['g3rproj_l']=resolveg3rproj\n",
    "resall['g3fc_l']=resolveg3fc\n",
    "resall['g3router_l']=resolveg3router\n",
    "resall['g3vdisp_l']=resolveg3vdisp"
   ]
  },
  {
   "cell_type": "markdown",
   "metadata": {},
   "source": [
    "## Examples"
   ]
  },
  {
   "cell_type": "code",
   "execution_count": null,
   "metadata": {},
   "outputs": [],
   "source": [
    "ecosurvey = ecoall[np.where((ecoall['absrmag']<=-17.33) & (ecoall['g3grpcz_l']>3000.) & (ecoall['g3grpcz_l']<7000.))]\n",
    "resolvesurvey = resall[np.where((resall['fl_insample']) & (resall['g3grpcz_l']>4500) & (resall['g3grpcz_l']<7000))]"
   ]
  },
  {
   "cell_type": "markdown",
   "metadata": {},
   "source": [
    "### (i) Group Radii Plotting\n",
    "\n",
    "In this first example, let's look at the largest ECO cluster identified using the G3 algorithm. The cell below selects this system and plots its members and several reference radii: the virial radius (r337b), the 75th-percentile observational projected radius, and the outermost group member radius. If you set `ADAPTIVE_LINKING=1` earlier in this tutorial, you will notice that the clusters members are often extended far beyond the virial radius. The adaptive linking strategy, especially at the high masses, tends to finds group members at 2-4$R_{\\rm vir}$ in the splashback/infall regions. On the other hand, if you set `ADAPTIVE_LINKING=0`, then nearly-all group members will fall within $1R_{\\rm vir}$. You may wish to re-run this tutorial and see how the results change if you change the adaptive option.\n",
    "\n",
    "*Note*: If any of the radii in the plot below have apparently unphysical values (e.g., $10^{20}$ degrees), you may have run the iPython cells out of order. Try restarting the Jupyter kernel and running all cells in order (`Kernel` > `Restart and Run All`)."
   ]
  },
  {
   "cell_type": "code",
   "execution_count": null,
   "metadata": {},
   "outputs": [],
   "source": [
    "largecluster = ecosurvey[np.where(ecosurvey['g3grpngi_l']==np.max(ecosurvey['g3grpngi_l']))]"
   ]
  },
  {
   "cell_type": "code",
   "execution_count": null,
   "metadata": {
    "scrolled": false
   },
   "outputs": [],
   "source": [
    "def circle(xcen,ycen,r):\n",
    "    theta = np.linspace(0,2*np.pi,720)\n",
    "    return xcen+r*np.cos(theta), ycen+r*np.sin(theta)\n",
    "\n",
    "plt.figure(figsize=(8,8))\n",
    "plt.plot(largecluster['radeg'], largecluster['dedeg'], 'k.', label='Cluster Galaxies', alpha=0.7)\n",
    "i = 0\n",
    "plt.plot(*circle(largecluster['g3grpradeg_l'][i], largecluster['g3grpdedeg_l'][i],\\\n",
    "                 largecluster['g3rvir_l'][i]*0.000277778), label='Virial Radius (r337b)', color='purple')\n",
    "plt.plot(*circle(largecluster['g3grpradeg_l'][i], largecluster['g3grpdedeg_l'][i],\\\n",
    "                 largecluster['g3rproj_l'][i]*0.000277778), label='75% Projected Radius')\n",
    "plt.plot(*circle(largecluster['g3grpradeg_l'][i], largecluster['g3grpdedeg_l'][i],\\\n",
    "                 largecluster['g3router_l'][i]*0.000277778), label='Outermost Galaxy Radius')\n",
    "plt.plot(largecluster['g3grpradeg_l'][i], largecluster['g3grpdedeg_l'][i], 'rx', label='Group Center', markersize=10)\n",
    "plt.xlabel(\"RA [deg]\")\n",
    "plt.ylabel(\"Dec [deg]\")\n",
    "plt.legend(loc='best', framealpha=1)\n",
    "plt.show()"
   ]
  },
  {
   "cell_type": "markdown",
   "metadata": {},
   "source": [
    "### (ii) Gas-to-Stellar Mass Ratio and Halo Mass\n",
    "As another simple example, we can look at the relationship between gas fraction and group halo mass. The cells below compute the gas fractions and make the plot."
   ]
  },
  {
   "cell_type": "code",
   "execution_count": null,
   "metadata": {},
   "outputs": [],
   "source": [
    "res_gs = (10.**resolvesurvey['logmgas'])/(10.**resolvesurvey['logmstar'])\n",
    "eco_gs = (10.**ecosurvey['logmgas'])/(10.**ecosurvey['logmstar'])"
   ]
  },
  {
   "cell_type": "code",
   "execution_count": null,
   "metadata": {},
   "outputs": [],
   "source": [
    "plt.figure(figsize=(13,6))\n",
    "\n",
    "# eco has a couple missing logmstar/logmgas - remove these for clarity\n",
    "sel = np.where((ecosurvey['logmstar']>0))\n",
    "\n",
    "plt.plot(ecosurvey['g3logmh_l'][sel], eco_gs[sel], '.', color='lightblue', alpha=0.2)\n",
    "plt.plot(resolvesurvey['g3logmh_l'], res_gs, '.', color='lightcoral', alpha=0.4)\n",
    "\n",
    "medecog3gs, binedges1, junk = binned_statistic(ecosurvey['g3logmh_l'][sel], eco_gs[sel], statistic='median', bins=15)\n",
    "medresg3gs, binedges2, junk = binned_statistic(resolvesurvey['g3logmh_l'], res_gs, statistic='median', bins=12)\n",
    "\n",
    "\n",
    "plt.plot(binedges1[:-1], medecog3gs,'^-', color='darkblue', label='ECO')\n",
    "plt.plot(binedges2[:-1], medresg3gs,'^-', color='darkred', label='RESOLVE')\n",
    "plt.legend(loc='best', framealpha=1)\n",
    "plt.yscale('log')\n",
    "plt.ylim(1e-2,1e2)\n",
    "plt.xlim(10.5,15)\n",
    "plt.xlabel(\"log Group Halo Mass\")\n",
    "plt.ylabel(\"Galaxy Gas-to-Stellar Mass Ratio\")\n",
    "plt.show()"
   ]
  },
  {
   "cell_type": "code",
   "execution_count": null,
   "metadata": {},
   "outputs": [],
   "source": []
  },
  {
   "cell_type": "code",
   "execution_count": null,
   "metadata": {},
   "outputs": [],
   "source": []
  }
 ],
 "metadata": {
  "kernelspec": {
   "display_name": "Python 3",
   "language": "python",
   "name": "python3"
  },
  "language_info": {
   "codemirror_mode": {
    "name": "ipython",
    "version": 3
   },
   "file_extension": ".py",
   "mimetype": "text/x-python",
   "name": "python",
   "nbconvert_exporter": "python",
   "pygments_lexer": "ipython3",
   "version": "3.7.1"
  }
 },
 "nbformat": 4,
 "nbformat_minor": 2
}
